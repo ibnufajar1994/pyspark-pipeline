{
 "cells": [
  {
   "cell_type": "code",
   "execution_count": 1,
   "id": "b0d6616e-1555-4971-abe9-10abd3beaac3",
   "metadata": {
    "scrolled": true
   },
   "outputs": [],
   "source": [
    "#import relevant module\n",
    "from src.utils.extract import extract_database, extract_csv\n",
    "from src.profiling.profiling import Profiling\n",
    "from src.transformation.transformation import Transformation\n",
    "from src.utils.load_data import load_data\n",
    "from pprint import pprint\n"
   ]
  },
  {
   "cell_type": "markdown",
   "id": "b2be8d26-6a0f-4d5c-9d5c-1402daebe4a9",
   "metadata": {},
   "source": [
    "=========================================EXTRACT DATA============================================="
   ]
  },
  {
   "cell_type": "code",
   "execution_count": 2,
   "id": "3f593841-d22c-42d3-b69f-89ad29751050",
   "metadata": {
    "scrolled": true
   },
   "outputs": [],
   "source": [
    "df_csv = extract_csv(\"new_bank_transaction.csv\")\n",
    "df_marital_status = extract_database(\"marital_status\")\n",
    "df_education_status = extract_database(\"education_status\")\n",
    "df_marketing_campaign_deposit= extract_database(\"marketing_campaign_deposit\")"
   ]
  },
  {
   "cell_type": "markdown",
   "id": "f8cce566-d516-4d33-9f37-5776387909f0",
   "metadata": {},
   "source": [
    "=========================================SHOW EXTRACTED DATA============================================="
   ]
  },
  {
   "cell_type": "code",
   "execution_count": 3,
   "id": "85da1ca1-d0b9-49f2-9a5b-41ebf3b9dd73",
   "metadata": {},
   "outputs": [
    {
     "name": "stdout",
     "output_type": "stream",
     "text": [
      "+-------------+----------+-----------+----------+-------------+------------------+---------------+---------------+-----------------------+\n",
      "|TransactionID|CustomerID|CustomerDOB|CustGender| CustLocation|CustAccountBalance|TransactionDate|TransactionTime|TransactionAmount (INR)|\n",
      "+-------------+----------+-----------+----------+-------------+------------------+---------------+---------------+-----------------------+\n",
      "|       T33671|  C1010011|    19/8/92|         F|        NOIDA|          32500.73|        26/9/16|         123813|                   4750|\n",
      "|      T173509|C1010011_2|     5/8/83|         M|    NEW DELHI|         120180.54|         9/8/16|          11229|                    356|\n",
      "|      T189175|  C1010037|    13/9/81|         M|    BANGALORE|          95859.17|         9/8/16|         162142|                  19680|\n",
      "|      T736258|  C1010112|    3/10/68|         M|      GURGAON|         346856.49|         2/9/16|         161007|                 1318.5|\n",
      "|      T875706|  C1010135|    11/8/86|         F|    BANGALORE|          11795.32|         8/9/16|         215101|                    457|\n",
      "|      T927940|  C1010190|    5/10/81|         M|        DELHI|          65243.72|        11/9/16|         122941|                   9000|\n",
      "|       T40548|  C1010214|   16/12/94|         M|    BANGALORE|           1148.09|        27/9/16|         183600|                    168|\n",
      "|      T944019|  C1010244|   24/12/86|         M|    HYDERABAD|            487.01|        11/9/16|         221758|                   2000|\n",
      "|      T723409|  C1010319|     3/9/92|         F|     VARANASI|           6174.51|         2/9/16|          84826|                     50|\n",
      "|      T148630|  C1010322|     8/9/91|         F|         PUNE|          21050.45|         5/8/16|         184609|                   2350|\n",
      "|       T73618|  C1010365|    14/4/85|         F|    HYDERABAD|          28710.31|         2/8/16|         175710|                    404|\n",
      "|      T469560|C1010365_2|   23/10/76|         M|NAGPUR NAGPUR|           15686.8|        21/8/16|         181922|                   1800|\n",
      "|      T307802|  C1010383|   19/12/95|         M|     AMRITSAR|          12493.86|        10/8/16|         180735|                   4800|\n",
      "|      T758005|  C1010438|   11/10/82|         F|        DELHI|          94507.49|         1/9/16|         175552|                    830|\n",
      "|      T268218|  C1010512|    8/11/54|         M|       MUMBAI|              0.02|        12/8/16|         174854|                   1783|\n",
      "|      T407131|  C1010517|     7/8/80|         M|     AZAMGARH|          30174.61|        18/8/16|         171156|                    200|\n",
      "|      T127098|C1010517_2|   19/10/94|         M|SRIPERUMBUDUR|          14750.09|         5/8/16|          32445|                    150|\n",
      "|      T945796|  C1010531|    26/9/82|         M|        NOIDA|            5856.1|        10/9/16|         201529|                    505|\n",
      "|      T997755|  C1010576|    10/5/86|         M|  RUDRAPRAYAG|         205915.47|        14/9/16|         123628|                   1625|\n",
      "|      T281933|  C1010712|    15/2/89|         F|   CHANDIGARH|          11891.82|        11/8/16|         140203|                 868.51|\n",
      "+-------------+----------+-----------+----------+-------------+------------------+---------------+---------------+-----------------------+\n",
      "only showing top 20 rows\n",
      "\n"
     ]
    }
   ],
   "source": [
    "df_csv.show()"
   ]
  },
  {
   "cell_type": "code",
   "execution_count": 4,
   "id": "2661f706-bf9f-47ea-aeca-0a75980f59bc",
   "metadata": {},
   "outputs": [
    {
     "name": "stdout",
     "output_type": "stream",
     "text": [
      "+----------+--------+--------------------+--------------------+\n",
      "|marital_id|   value|          created_at|          updated_at|\n",
      "+----------+--------+--------------------+--------------------+\n",
      "|         1| married|2025-02-28 15:31:...|2025-02-28 15:31:...|\n",
      "|         2|  single|2025-02-28 15:31:...|2025-02-28 15:31:...|\n",
      "|         3|divorced|2025-02-28 15:31:...|2025-02-28 15:31:...|\n",
      "+----------+--------+--------------------+--------------------+\n",
      "\n"
     ]
    }
   ],
   "source": [
    "df_marital_status.show()"
   ]
  },
  {
   "cell_type": "code",
   "execution_count": 5,
   "id": "a81ffba2-5ef5-4ad8-a83c-5b100a84d371",
   "metadata": {},
   "outputs": [
    {
     "name": "stdout",
     "output_type": "stream",
     "text": [
      "+------------+---------+--------------------+--------------------+\n",
      "|education_id|    value|          created_at|          updated_at|\n",
      "+------------+---------+--------------------+--------------------+\n",
      "|           1| tertiary|2025-02-28 15:31:...|2025-02-28 15:31:...|\n",
      "|           2|secondary|2025-02-28 15:31:...|2025-02-28 15:31:...|\n",
      "|           3|  unknown|2025-02-28 15:31:...|2025-02-28 15:31:...|\n",
      "|           4|  primary|2025-02-28 15:31:...|2025-02-28 15:31:...|\n",
      "+------------+---------+--------------------+--------------------+\n",
      "\n"
     ]
    }
   ],
   "source": [
    "df_education_status.show()"
   ]
  },
  {
   "cell_type": "code",
   "execution_count": 6,
   "id": "d36e14d1-84a6-4a90-870d-1af41b0c84c9",
   "metadata": {},
   "outputs": [
    {
     "name": "stdout",
     "output_type": "stream",
     "text": [
      "+------------+---+------------+----------+------------+-------+-------+-------+-----+-------+---+-----+--------+--------+-----+--------+--------+------------------+--------------------+--------------------+\n",
      "|loan_data_id|age|         job|marital_id|education_id|default|balance|housing| loan|contact|day|month|duration|campaign|pdays|previous|poutcome|subscribed_deposit|          created_at|          updated_at|\n",
      "+------------+---+------------+----------+------------+-------+-------+-------+-----+-------+---+-----+--------+--------+-----+--------+--------+------------------+--------------------+--------------------+\n",
      "|           1| 58|  management|         1|           1|  false|  $2143|   true|false|unknown|  5|  may|     261|       1|   -1|       0| unknown|             false|2025-02-28 15:59:...|2025-02-28 15:59:...|\n",
      "|           2| 44|  technician|         2|           2|  false|    $29|   true|false|unknown|  5|  may|     151|       1|   -1|       0| unknown|             false|2025-02-28 15:59:...|2025-02-28 15:59:...|\n",
      "|           3| 33|entrepreneur|         1|           2|  false|     $2|   true| true|unknown|  5|  may|      76|       1|   -1|       0| unknown|             false|2025-02-28 15:59:...|2025-02-28 15:59:...|\n",
      "|           4| 47| blue-collar|         1|           3|  false|  $1506|   true|false|unknown|  5|  may|      92|       1|   -1|       0| unknown|             false|2025-02-28 15:59:...|2025-02-28 15:59:...|\n",
      "|           5| 33|     unknown|         2|           3|  false|     $1|  false|false|unknown|  5|  may|     198|       1|   -1|       0| unknown|             false|2025-02-28 15:59:...|2025-02-28 15:59:...|\n",
      "+------------+---+------------+----------+------------+-------+-------+-------+-----+-------+---+-----+--------+--------+-----+--------+--------+------------------+--------------------+--------------------+\n",
      "only showing top 5 rows\n",
      "\n"
     ]
    }
   ],
   "source": [
    "df_marketing_campaign_deposit.show(5)"
   ]
  },
  {
   "cell_type": "markdown",
   "id": "0c01fce4-8a24-44d4-8d86-e5c660ea8851",
   "metadata": {},
   "source": [
    "============================Create Profiling Instance============================"
   ]
  },
  {
   "cell_type": "code",
   "execution_count": 7,
   "id": "2169df08-f459-4ff4-beae-eed8c297dafc",
   "metadata": {},
   "outputs": [],
   "source": [
    "df_csv_profiling = Profiling(data=df_csv, table_name=\"new_bank_transaction.csv\")\n",
    "df_marital_status_profiling = Profiling(data=df_marital_status, table_name=\"marital_status\")\n",
    "df_education_status_profiling = Profiling(data=df_education_status, table_name=\"education_status\")\n",
    "df_marketing_campaign_deposit_profiling = Profiling(data=df_marketing_campaign_deposit, table_name=\"df_marketing_campaign_deposit\")"
   ]
  },
  {
   "cell_type": "markdown",
   "id": "c77639a5-0978-46d4-84de-0c56c0239204",
   "metadata": {},
   "source": [
    "=======================================GET COLUMN NAME FROM TABLE======================================="
   ]
  },
  {
   "cell_type": "code",
   "execution_count": 8,
   "id": "480aee49-3ec0-422b-b4d3-a9e88ad5a504",
   "metadata": {},
   "outputs": [
    {
     "data": {
      "text/plain": [
       "['TransactionID',\n",
       " 'CustomerID',\n",
       " 'CustomerDOB',\n",
       " 'CustGender',\n",
       " 'CustLocation',\n",
       " 'CustAccountBalance',\n",
       " 'TransactionDate',\n",
       " 'TransactionTime',\n",
       " 'TransactionAmount (INR)']"
      ]
     },
     "execution_count": 8,
     "metadata": {},
     "output_type": "execute_result"
    }
   ],
   "source": [
    "csv_table = df_csv_profiling.get_columns()\n",
    "csv_table"
   ]
  },
  {
   "cell_type": "code",
   "execution_count": 9,
   "id": "2798515c-40d3-49b1-b148-4f4066016952",
   "metadata": {},
   "outputs": [
    {
     "name": "stdout",
     "output_type": "stream",
     "text": [
      "{'created_at': '2025-04-08', 'report': {'TransactionID': {'data_type': 'StringType()', 'percentage_missing_value': 0.0}, 'CustomerID': {'data_type': 'StringType()', 'percentage_missing_value': 0.0}, 'CustomerDOB': {'data_type': 'StringType()', 'percentage_missing_value': 0.32396594590522115, 'percentage_valid_date': 0.0}, 'CustGender': {'data_type': 'StringType()', 'unique_value': ['F', 'M', 'T', None], 'percentage_missing_value': 0.10490507521217052}, 'CustLocation': {'data_type': 'StringType()', 'percentage_missing_value': 0.014400605779125225}, 'CustAccountBalance': {'data_type': 'StringType()', 'percentage_missing_value': 0.22592738470693813, 'Total Negative Values': 0}, 'TransactionDate': {'data_type': 'StringType()', 'percentage_missing_value': 0.0, 'percentage_valid_date': 0.0}, 'TransactionTime': {'data_type': 'StringType()', 'percentage_missing_value': 0.0}, 'TransactionAmount (INR)': {'data_type': 'StringType()', 'percentage_missing_value': 0.0, 'Total Negative Values': 0}}}\n"
     ]
    }
   ],
   "source": [
    "missing_value_column = csv_table\n",
    "unique_column = ['CustGender']\n",
    "date_column = ['CustomerDOB', 'TransactionDate']\n",
    "negative_value_column = ['CustAccountBalance','TransactionAmount (INR)']\n",
    "\n",
    "df_csv_profiling.selected_columns(csv_table, unique_column, missing_value_column, date_column, negative_value_column)\n",
    "report_csv = df_csv_profiling.reporting()"
   ]
  },
  {
   "cell_type": "code",
   "execution_count": 10,
   "id": "031d951c-0d8e-4739-b663-18782027b8e8",
   "metadata": {},
   "outputs": [
    {
     "data": {
      "text/plain": [
       "['marital_id', 'value', 'created_at', 'updated_at']"
      ]
     },
     "execution_count": 10,
     "metadata": {},
     "output_type": "execute_result"
    }
   ],
   "source": [
    "marital_table = df_marital_status_profiling.get_columns()\n",
    "marital_table"
   ]
  },
  {
   "cell_type": "code",
   "execution_count": 11,
   "id": "dc529698-edee-4c9c-a275-15a89e49c4ab",
   "metadata": {},
   "outputs": [
    {
     "data": {
      "text/plain": [
       "['education_id', 'value', 'created_at', 'updated_at']"
      ]
     },
     "execution_count": 11,
     "metadata": {},
     "output_type": "execute_result"
    }
   ],
   "source": [
    "education_table = df_education_status_profiling.get_columns()\n",
    "education_table"
   ]
  },
  {
   "cell_type": "code",
   "execution_count": 12,
   "id": "7ff821e9-211a-4502-9090-5554858b26b0",
   "metadata": {},
   "outputs": [
    {
     "data": {
      "text/plain": [
       "['loan_data_id',\n",
       " 'age',\n",
       " 'job',\n",
       " 'marital_id',\n",
       " 'education_id',\n",
       " 'default',\n",
       " 'balance',\n",
       " 'housing',\n",
       " 'loan',\n",
       " 'contact',\n",
       " 'day',\n",
       " 'month',\n",
       " 'duration',\n",
       " 'campaign',\n",
       " 'pdays',\n",
       " 'previous',\n",
       " 'poutcome',\n",
       " 'subscribed_deposit',\n",
       " 'created_at',\n",
       " 'updated_at']"
      ]
     },
     "execution_count": 12,
     "metadata": {},
     "output_type": "execute_result"
    }
   ],
   "source": [
    "marketing_table = df_marketing_campaign_deposit_profiling.get_columns()\n",
    "marketing_table"
   ]
  },
  {
   "cell_type": "markdown",
   "id": "9f44f35e-cadd-4415-a4a4-c17dcf375ec9",
   "metadata": {},
   "source": [
    "========================================CHECK DATA TYPE======================================="
   ]
  },
  {
   "cell_type": "code",
   "execution_count": 13,
   "id": "c969504f-b24b-443b-a42c-dfad53a17342",
   "metadata": {},
   "outputs": [
    {
     "name": "stdout",
     "output_type": "stream",
     "text": [
      "{'CustAccountBalance': 'StringType()',\n",
      " 'CustGender': 'StringType()',\n",
      " 'CustLocation': 'StringType()',\n",
      " 'CustomerDOB': 'StringType()',\n",
      " 'CustomerID': 'StringType()',\n",
      " 'TransactionAmount (INR)': 'StringType()',\n",
      " 'TransactionDate': 'StringType()',\n",
      " 'TransactionID': 'StringType()',\n",
      " 'TransactionTime': 'StringType()'}\n"
     ]
    }
   ],
   "source": [
    "#check data type on csv \n",
    "data = {}\n",
    "for column in csv_table:\n",
    "    result = df_csv_profiling.check_data_type(column)\n",
    "    data[column] = result\n",
    "pprint(data)"
   ]
  },
  {
   "cell_type": "code",
   "execution_count": 14,
   "id": "15183d42-387b-4629-8a81-141d4ab4e273",
   "metadata": {},
   "outputs": [
    {
     "name": "stdout",
     "output_type": "stream",
     "text": [
      "{'created_at': 'TimestampType()',\n",
      " 'marital_id': 'IntegerType()',\n",
      " 'updated_at': 'TimestampType()',\n",
      " 'value': 'StringType()'}\n"
     ]
    }
   ],
   "source": [
    "#Check data type on marital_status table\n",
    "data = {}\n",
    "for column in marital_table:\n",
    "    result = df_marital_status_profiling.check_data_type(column)\n",
    "    data[column] = result\n",
    "pprint(data)"
   ]
  },
  {
   "cell_type": "code",
   "execution_count": 15,
   "id": "35100291-3aba-4898-9db5-f1be30c15501",
   "metadata": {},
   "outputs": [
    {
     "name": "stdout",
     "output_type": "stream",
     "text": [
      "{'created_at': 'TimestampType()',\n",
      " 'education_id': 'IntegerType()',\n",
      " 'updated_at': 'TimestampType()',\n",
      " 'value': 'StringType()'}\n"
     ]
    }
   ],
   "source": [
    "#Check data type on education_status table\n",
    "data = {}\n",
    "for column in education_table:\n",
    "    result = df_education_status_profiling.check_data_type(column)\n",
    "    data[column] = result\n",
    "pprint(data)"
   ]
  },
  {
   "cell_type": "code",
   "execution_count": 16,
   "id": "4461035a-88d9-4975-ba9f-80bfd3be0715",
   "metadata": {},
   "outputs": [
    {
     "name": "stdout",
     "output_type": "stream",
     "text": [
      "{'age': 'IntegerType()',\n",
      " 'balance': 'StringType()',\n",
      " 'campaign': 'IntegerType()',\n",
      " 'contact': 'StringType()',\n",
      " 'created_at': 'TimestampType()',\n",
      " 'day': 'IntegerType()',\n",
      " 'default': 'BooleanType()',\n",
      " 'duration': 'IntegerType()',\n",
      " 'education_id': 'IntegerType()',\n",
      " 'housing': 'BooleanType()',\n",
      " 'job': 'StringType()',\n",
      " 'loan': 'BooleanType()',\n",
      " 'loan_data_id': 'IntegerType()',\n",
      " 'marital_id': 'IntegerType()',\n",
      " 'month': 'StringType()',\n",
      " 'pdays': 'IntegerType()',\n",
      " 'poutcome': 'StringType()',\n",
      " 'previous': 'IntegerType()',\n",
      " 'subscribed_deposit': 'BooleanType()',\n",
      " 'updated_at': 'TimestampType()'}\n"
     ]
    }
   ],
   "source": [
    "#Check data type on marketing campaign table\n",
    "data = {}\n",
    "for column in marketing_table:\n",
    "    result = df_marketing_campaign_deposit_profiling.check_data_type(column)\n",
    "    data[column] = result\n",
    "pprint(data)"
   ]
  },
  {
   "cell_type": "markdown",
   "id": "e85e58e0-f787-4bf7-9782-e02727b4f11f",
   "metadata": {},
   "source": [
    "===================================CHECK PERCENTAGE MISSING VALUE==================================="
   ]
  },
  {
   "cell_type": "code",
   "execution_count": 17,
   "id": "a34ccf10-a828-4452-88b5-bd2da17e8bc4",
   "metadata": {},
   "outputs": [
    {
     "name": "stdout",
     "output_type": "stream",
     "text": [
      "{'CustAccountBalance': 0.22592738470693813,\n",
      " 'CustGender': 0.10490507521217052,\n",
      " 'CustLocation': 0.014400605779125225,\n",
      " 'CustomerDOB': 0.32396594590522115,\n",
      " 'CustomerID': 0.0,\n",
      " 'TransactionAmount (INR)': 0.0,\n",
      " 'TransactionDate': 0.0,\n",
      " 'TransactionID': 0.0,\n",
      " 'TransactionTime': 0.0}\n"
     ]
    }
   ],
   "source": [
    "#check missing value on csv \n",
    "data = {}\n",
    "for column in csv_table:\n",
    "    result = df_csv_profiling.get_percentage_missing_values(column)\n",
    "    data[column] = result\n",
    "pprint(data)"
   ]
  },
  {
   "cell_type": "code",
   "execution_count": 18,
   "id": "0d2d73a7-5204-4575-9ad0-6beb1ab078c6",
   "metadata": {},
   "outputs": [],
   "source": [
    "missing_value = csv_table\n"
   ]
  },
  {
   "cell_type": "code",
   "execution_count": 19,
   "id": "80a6250a-cb8f-4802-8fe7-e2c88adfaae7",
   "metadata": {},
   "outputs": [
    {
     "name": "stdout",
     "output_type": "stream",
     "text": [
      "{'age': 0.0,\n",
      " 'balance': 0.0,\n",
      " 'campaign': 0.0,\n",
      " 'contact': 0.0,\n",
      " 'day': 0.0,\n",
      " 'duration': 0.0,\n",
      " 'education_id': 0.0,\n",
      " 'job': 0.0,\n",
      " 'loan_data_id': 0.0,\n",
      " 'marital_id': 0.0,\n",
      " 'month': 0.0,\n",
      " 'pdays': 0.0,\n",
      " 'poutcome': 0.0,\n",
      " 'previous': 0.0}\n"
     ]
    }
   ],
   "source": [
    "table_check = ['loan_data_id',\n",
    " 'age',\n",
    " 'job',\n",
    " 'marital_id',\n",
    " 'education_id',\n",
    " 'balance',\n",
    " 'contact',\n",
    " 'day',\n",
    " 'month',\n",
    " 'duration',\n",
    " 'campaign',\n",
    " 'pdays',\n",
    " 'previous',\n",
    " 'poutcome',]\n",
    "\n",
    "#check missing value on marketing_\n",
    "data = {}\n",
    "for column in table_check:\n",
    "    result = df_marketing_campaign_deposit_profiling.get_percentage_missing_values(column)\n",
    "    data[column] = result\n",
    "pprint(data)"
   ]
  },
  {
   "cell_type": "markdown",
   "id": "352b7fb1-82e5-4938-b804-dc51df25a313",
   "metadata": {},
   "source": [
    "===================================CHECK UNIQUE VALUE==================================="
   ]
  },
  {
   "cell_type": "code",
   "execution_count": 20,
   "id": "da5fb722-70ba-4606-ad18-6c9c4a8138bc",
   "metadata": {},
   "outputs": [
    {
     "data": {
      "text/plain": [
       "['F', 'M', 'T', None]"
      ]
     },
     "execution_count": 20,
     "metadata": {},
     "output_type": "execute_result"
    }
   ],
   "source": [
    "#check unique value csv file on column CustGender \n",
    "df_csv_profiling.check_value(\"CustGender\")"
   ]
  },
  {
   "cell_type": "code",
   "execution_count": 21,
   "id": "a8babf28-4877-48aa-a8f2-b8d51e831a91",
   "metadata": {},
   "outputs": [
    {
     "data": {
      "text/plain": [
       "['divorced', 'married', 'single']"
      ]
     },
     "execution_count": 21,
     "metadata": {},
     "output_type": "execute_result"
    }
   ],
   "source": [
    "#check unique value marital_status table on column value\n",
    "df_marital_status_profiling.check_value(\"value\")"
   ]
  },
  {
   "cell_type": "code",
   "execution_count": 22,
   "id": "19ac9d2b-3469-4dc1-9d02-67ef75b7ab88",
   "metadata": {},
   "outputs": [
    {
     "data": {
      "text/plain": [
       "['unknown', 'tertiary', 'secondary', 'primary']"
      ]
     },
     "execution_count": 22,
     "metadata": {},
     "output_type": "execute_result"
    }
   ],
   "source": [
    "#check unique value education_status table on column value\n",
    "df_education_status_profiling.check_value(\"value\")"
   ]
  },
  {
   "cell_type": "code",
   "execution_count": 23,
   "id": "57a38150-e44b-4bac-8679-af230fecc219",
   "metadata": {},
   "outputs": [
    {
     "name": "stdout",
     "output_type": "stream",
     "text": [
      "{'contact': ['unknown', 'cellular', 'telephone'],\n",
      " 'job': ['management',\n",
      "         'retired',\n",
      "         'unknown',\n",
      "         'self-employed',\n",
      "         'student',\n",
      "         'blue-collar',\n",
      "         'entrepreneur',\n",
      "         'admin.',\n",
      "         'technician',\n",
      "         'services',\n",
      "         'housemaid',\n",
      "         'unemployed']}\n"
     ]
    }
   ],
   "source": [
    "table_check = ['job', 'contact']\n",
    "#check unique value on marketing_campaign_deposit\n",
    "data = {}\n",
    "for column in table_check:\n",
    "    result = df_marketing_campaign_deposit_profiling.check_value(column)\n",
    "    data[column] = result\n",
    "pprint(data)"
   ]
  },
  {
   "cell_type": "markdown",
   "id": "052d16ec-0723-4add-9393-73404d2dfa54",
   "metadata": {},
   "source": [
    "===================================CHECK NEGATIVE VALUE==================================="
   ]
  },
  {
   "cell_type": "code",
   "execution_count": 24,
   "id": "ad810cd3-b97a-4f46-8fc2-5b0074f7db6b",
   "metadata": {},
   "outputs": [],
   "source": [
    "table_check = ['CustAccountBalance', 'TransactionAmount (INR)']\n",
    "#check NEGATIVE VALUE ON CSV\n",
    "data = {}\n",
    "for column in table_check:\n",
    "    result = df_csv_profiling.check_negative_value(column)\n",
    "    data[column] = result\n",
    "\n"
   ]
  },
  {
   "cell_type": "code",
   "execution_count": 25,
   "id": "c1498c73-85a7-4258-a54a-f829f3e28bd2",
   "metadata": {},
   "outputs": [],
   "source": [
    "table_check = ['balance']\n",
    "#CHECK NEGATIVE VALUE ON TABLE MARKETING_CAMPAIGN_DEPOSIT\n",
    "data = {}\n",
    "for column in table_check:\n",
    "    result = df_marketing_campaign_deposit_profiling.check_negative_value(column)\n",
    "    data[column] = result\n",
    "\n",
    "\n"
   ]
  },
  {
   "cell_type": "markdown",
   "id": "8ce52ce5-a7c9-47c1-9f2a-305cdb0280c7",
   "metadata": {},
   "source": [
    "===================================CHECK VALID DATE==================================="
   ]
  },
  {
   "cell_type": "code",
   "execution_count": 26,
   "id": "cb3bb8dd-e334-4c2a-8ac4-b9916b678b62",
   "metadata": {},
   "outputs": [
    {
     "data": {
      "text/plain": [
       "0.0"
      ]
     },
     "execution_count": 26,
     "metadata": {},
     "output_type": "execute_result"
    }
   ],
   "source": [
    "#CHECK VALID DATE ON CSV DATA\n",
    "df_csv_profiling.get_percentage_valid_date(\"CustomerDOB\")\n"
   ]
  }
 ],
 "metadata": {
  "kernelspec": {
   "display_name": "Python 3 (ipykernel)",
   "language": "python",
   "name": "python3"
  },
  "language_info": {
   "codemirror_mode": {
    "name": "ipython",
    "version": 3
   },
   "file_extension": ".py",
   "mimetype": "text/x-python",
   "name": "python",
   "nbconvert_exporter": "python",
   "pygments_lexer": "ipython3",
   "version": "3.11.6"
  }
 },
 "nbformat": 4,
 "nbformat_minor": 5
}
